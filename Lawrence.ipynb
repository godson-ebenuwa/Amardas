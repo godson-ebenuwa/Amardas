{
 "cells": [
  {
   "cell_type": "markdown",
   "id": "9695af37",
   "metadata": {},
   "source": [
    "Flag question: Question 1\n",
    "Question 1 0 pts\n",
    "Let’s create a function to print something whenever we invoke it.\n",
    "\n",
    "def my_amazing_func():\n",
    "    print(\"Hello World! From my function!\")\n",
    "To view line numbers for each of your cells you can go to View -> Toggle Line Numbers.\n",
    "\n",
    "We can now invoke (or call) our newly defined function in the following cell:\n",
    "\n",
    "my_amazing_func()\n"
   ]
  },
  {
   "cell_type": "code",
   "execution_count": 1,
   "id": "834382e2",
   "metadata": {},
   "outputs": [],
   "source": [
    "def my_amazing_func():\n",
    "    print(\"Hello World! From my function!\")"
   ]
  },
  {
   "cell_type": "code",
   "execution_count": 2,
   "id": "bf736eca",
   "metadata": {},
   "outputs": [
    {
     "name": "stdout",
     "output_type": "stream",
     "text": [
      "Hello World! From my function!\n"
     ]
    }
   ],
   "source": [
    "my_amazing_func()"
   ]
  },
  {
   "cell_type": "markdown",
   "id": "c4f2f3e6",
   "metadata": {},
   "source": [
    "Flag question: Question 2\n",
    "Question 2 0 pts\n",
    "In the lectures we covered the ‘return’ of a function. By using the return keyword. First, let’s prove that by default a function without this keyword will return None.\n",
    "\n",
    "In a separate cell (Insert -> Insert Cell Below), assign a variable to your function’s output. We can do this like so:\n",
    "\n",
    "variable_name = my_amazing_func()\n",
    "Remember, you get to decide what to call your variable. Similarly, you get to define what you call your function. At the moment, these are toy examples so we’re using names which might not mean much, but later on we should try to use variable and function names that make sense for what we are attempting to do.\n",
    "\n",
    "After assigning a variable to your function’s output: print the value, and type, of your newly made variable.\n",
    "\n",
    "print( variable_name)\n",
    "print( type (variable_name) )\n",
    "From this, we can confirm that by default a function will return None, if we don’t add a return statement in the function definition. Using our knowledge of types, we can check this and it does indeed return as NoneType which is one of the special primitive data types we covered last week.\n"
   ]
  },
  {
   "cell_type": "code",
   "execution_count": 3,
   "id": "85a91fe3",
   "metadata": {},
   "outputs": [
    {
     "name": "stdout",
     "output_type": "stream",
     "text": [
      "Hello World! From my function!\n",
      "None\n",
      "<class 'NoneType'>\n"
     ]
    }
   ],
   "source": [
    "trial = my_amazing_func()\n",
    "print(trial)\n",
    "print(type(trial))"
   ]
  },
  {
   "cell_type": "markdown",
   "id": "ce3ecfe2",
   "metadata": {},
   "source": [
    "Flag question: Question 3\n",
    "Question 3 0 pts\n",
    "At the moment our function can only ever do one thing. It can only print the exact phrase we wrote for it.\n",
    "\n",
    "We can modify our function to include parameters, this will allow us to pass values and variables to our function to use them in some way.\n",
    "\n",
    "Let’s modify our function to accept a string for printing. We can go back to our first cell in the notebook, and change the definition of our function. Previously, this function would print the string literal \"Hello World! From my function!\". However, we now want it to directly print whatever we pass as an argument into this function.\n",
    "\n",
    "def my_amazing_func( thing_to_print ):\n",
    "    print( thing_to_print )\n",
    "Note: Make sure you execute this cell once you have made the changes (Shift+Enter). You will now notice a new number next to the cell. Before this was In [ 1 ] and now it should be higher, such as In [ 5 ]. To Python, we have just re-executed our function code, as though we typed it all out again. If we were to run the remaining cells in the notebook, these should behave very differently now!\n",
    "\n",
    "  my_amazing_func( thing_to_print )\n",
    "Uh-oh! Because we changed the definition of our function, the code we used before to invoke the function is now incorrect. Our function is expecting something to be given to it, and because we haven’t done that it complains.\n",
    "\n",
    "We can resolve this quite easily. We can provide it a string to use. Modify the erroneous cell to call my_amazing_func(\"This is a test\") then run the cell again (Shift+Enter).\n",
    "\n",
    "Success!\n"
   ]
  },
  {
   "cell_type": "code",
   "execution_count": 4,
   "id": "5486d8e6",
   "metadata": {},
   "outputs": [
    {
     "name": "stdout",
     "output_type": "stream",
     "text": [
      "This is a test\n"
     ]
    }
   ],
   "source": [
    "def my_amazing_func(thing_to_print):\n",
    "    print(thing_to_print)\n",
    "    \n",
    "    \n",
    "my_amazing_func('This is a test')"
   ]
  },
  {
   "cell_type": "markdown",
   "id": "e029d1b7",
   "metadata": {},
   "source": [
    "Flag question: Question 4\n",
    "Question 4 0 pts\n",
    "Introducing, default values\n",
    "Alternatively, we can tell our function that the parameter we defined is optional. That is, we can call my_amazing_func() and my_amazing_func( \"Beep\" ), and both would work without Python Erroring.\n",
    "\n",
    "Let’s take a look at our function definition:\n",
    "\n",
    "def my_amazing_func( thing_to_print ):\n",
    "    print( thing_to_print )\n",
    "We can do something like the following to tell Python that if thing_to_print is not provided, that it can take on a default value. This provides a default binding for our parameter within the function scope.\n",
    "\n",
    "def my_amazing_func( thing_to_print = \"The Default thing you want\" ):\n",
    "    print( thing_to_print )\n",
    "If we now invoke my_amazing_func(), missing out that argument of what to print. We should be able to observe the function using the default.\n",
    "\n",
    "Implement these changes, making sure to redefine your original function, and re-execute the cells for the function definition, and your invocation cells.\n"
   ]
  },
  {
   "cell_type": "code",
   "execution_count": 5,
   "id": "cd5b4d9f",
   "metadata": {},
   "outputs": [],
   "source": [
    "def my_amazing_func(thing_to_print= \"The Default thing you want\"):\n",
    "    print(thing_to_print)\n"
   ]
  },
  {
   "cell_type": "markdown",
   "id": "df4f35a4",
   "metadata": {},
   "source": [
    " \n",
    "Flag question: Question 5\n",
    "Question 5 0 pts\n",
    "Create a new cell beneath this, and try passing a string to your function. It should print whatever you pass it.\n",
    "\n",
    "my_amazing_func(\"Do what I say\")\n"
   ]
  },
  {
   "cell_type": "code",
   "execution_count": 6,
   "id": "f0eab058",
   "metadata": {},
   "outputs": [
    {
     "name": "stdout",
     "output_type": "stream",
     "text": [
      "This is jupyter notebook\n"
     ]
    }
   ],
   "source": [
    "my_amazing_func('This is jupyter notebook')"
   ]
  },
  {
   "cell_type": "markdown",
   "id": "4935e154",
   "metadata": {},
   "source": [
    "\n",
    "Flag question: Question 6\n",
    "Question 6 0 pts\n",
    "Write a standard for loop to get a random number, and print it, repeat this 20 times."
   ]
  },
  {
   "cell_type": "code",
   "execution_count": 7,
   "id": "95a7c7fe",
   "metadata": {},
   "outputs": [
    {
     "name": "stdout",
     "output_type": "stream",
     "text": [
      "14\n",
      "99\n",
      "73\n",
      "19\n",
      "16\n",
      "95\n",
      "95\n",
      "0\n",
      "24\n",
      "14\n",
      "0\n",
      "36\n",
      "59\n",
      "93\n",
      "26\n",
      "71\n",
      "33\n",
      "80\n",
      "30\n",
      "16\n"
     ]
    }
   ],
   "source": [
    "from random import randint\n",
    "for x in range(20):\n",
    "    print(randint(0,100))"
   ]
  },
  {
   "cell_type": "markdown",
   "id": "ecf4af71",
   "metadata": {},
   "source": [
    "Flag question: Question 7\n",
    "Question 7 0 pts\n",
    "ScopingLinks to an external site.\n",
    "In this week’s lecture we looked at scoping, and the concept of function scope We learned that a function has access to all the variables defined in the scope in which itself is defined.\n",
    "\n",
    "Consider the following:\n",
    "\n",
    "a = \"Some outer scope string literal\"\n",
    "b = 42\n",
    "\n",
    "def some_func():\n",
    "    print(a, b)\n",
    "\n",
    "some_func()\n",
    "If we execute this, our function definition doesn’t have any defined parameters and we do not provide it any arguments to execute on. The only place which it can possibly get a, and b, is from its parent scope - the global scope.\n",
    "\n",
    "This can be useful in some cases, but also dangerous. What if we moved our some_func definition to a completely different section of our code? Or change a, and b, in our parent scope?\n",
    "\n",
    "Ideally, our functions should be self-contained, and shouldn’t rely on bleed through from parental scope. This reliance from the parental scope can lead to unintentional side-effects.\n",
    "\n",
    "Remember: some_func can access a, and b, getting their value. But it cannot change them from within the function! -> UnboundLocalError\n",
    "\n",
    "The solution is to make the function require parameters to be passed in. If our function wants to print some variables, they should be supplied.\n",
    "\n",
    "a = \"Some outer scope string literal\"\n",
    "b = 42    \n",
    "\n",
    "# Now, by our definition, we know that this NEEDS two arguments passed in.\n",
    "def some_func_v2(a, b):\n",
    "    print(a, b)\n",
    "\n",
    "# some_func_v2() # This line would error \"positional arguments\"\n",
    "some_func_v2( a, b ) # Explicitly pass a and b in.\n",
    "Remember, that the function scope now makes a, and b binding it to whatever we pass in.\n",
    "\n",
    "If we try to print(c) after our function call to some_func_v2(...), c should not exist. It was only ever defined within the scope of our function. We should expect an error.\n"
   ]
  },
  {
   "cell_type": "code",
   "execution_count": 8,
   "id": "443f5b48",
   "metadata": {},
   "outputs": [],
   "source": [
    "def some_func_v2(a,b):\n",
    "    print(a,b)"
   ]
  },
  {
   "cell_type": "markdown",
   "id": "fd1f58fa",
   "metadata": {},
   "source": [
    " \n",
    "Flag question: Question 8\n",
    "Question 8 0 pts\n",
    "More Useful FunctionsLinks to an external site.\n",
    "Let’s write a function which can return something. In a new cell, execute the following:\n",
    "\n",
    "def always_4():\n",
    "    return 4\n",
    "Create a variable, and assign it to the return of our function. (We will need to call our function to get anything back)."
   ]
  },
  {
   "cell_type": "code",
   "execution_count": 9,
   "id": "955f53bd",
   "metadata": {},
   "outputs": [
    {
     "data": {
      "text/plain": [
       "4"
      ]
     },
     "execution_count": 9,
     "metadata": {},
     "output_type": "execute_result"
    }
   ],
   "source": [
    "def always_4():\n",
    "    return 4\n",
    "\n",
    "result = always_4()\n",
    "result"
   ]
  },
  {
   "cell_type": "markdown",
   "id": "79b2245f",
   "metadata": {},
   "source": [
    "Flag question: Question 9\n",
    "Question 9 0 pts\n",
    "In our previous workshop we wrote some expressions for operations between two types. E.g. 5 + 7.0\n",
    "\n",
    "Write a function, with a suitable name of your choosing, which returns the additive sum of the two inputs. (Don’t call the function sum; this is a protected keyword. Some of you may have experienced a problem with this in Workshop 1).\n",
    "\n",
    "my_result = sum_two_numbers(5, 7)\n",
    "print (my_result)"
   ]
  },
  {
   "cell_type": "code",
   "execution_count": 10,
   "id": "f6cf9ae6",
   "metadata": {},
   "outputs": [
    {
     "data": {
      "text/plain": [
       "12"
      ]
     },
     "execution_count": 10,
     "metadata": {},
     "output_type": "execute_result"
    }
   ],
   "source": [
    "def adding(a,b):\n",
    "    return a+b\n",
    "\n",
    "my_result = adding(7,5)\n",
    "my_result\n"
   ]
  },
  {
   "cell_type": "markdown",
   "id": "fc67de8d",
   "metadata": {},
   "source": [
    " \n",
    "Flag question: Question 10\n",
    "Question 10 0 pts\n",
    "Consider the following task. You are asked to write a function which accepts a list of any length as its input. This list will be of numbers which may contain a -1 as a data element. The return of this function should be the index at which a -1 was found.\n",
    "\n",
    "For this example, you may assume that the input list will always have an entry which is -1 somewhere.\n",
    "\n",
    "Example:\n",
    "\n",
    "A = [ 5, 2, 9, -1, 3, 12]\n",
    "indx_of_issue = find_negative_one( A )\n",
    "print(indx_of_issue) # Should give me 3 (4th element in A)."
   ]
  },
  {
   "cell_type": "code",
   "execution_count": 11,
   "id": "cf09ccf0",
   "metadata": {},
   "outputs": [],
   "source": [
    "def find_negative_one(list):\n",
    "    return list.index(-1)"
   ]
  },
  {
   "cell_type": "code",
   "execution_count": 12,
   "id": "3f0d9800",
   "metadata": {},
   "outputs": [
    {
     "data": {
      "text/plain": [
       "3"
      ]
     },
     "execution_count": 12,
     "metadata": {},
     "output_type": "execute_result"
    }
   ],
   "source": [
    "A = [ 5, 2, 9, -1, 3, 12]\n",
    "\n",
    "indx_of_issue = find_negative_one(A)\n",
    "indx_of_issue\n"
   ]
  },
  {
   "cell_type": "markdown",
   "id": "17ddcc06",
   "metadata": {},
   "source": [
    "Flag question: Question 11\n",
    "Question 11 0 pts\n",
    "You find out later that the input list may sometimes not contain a negative one. What would be the output of your function in this case (as it is currently written)? And how could I check the indx_of_issue variable to determine whether I did find a -1 or not? Modify your code such that it prints the index if a -1 was found, otherwise it prints “There is no -1 here”."
   ]
  },
  {
   "cell_type": "code",
   "execution_count": 13,
   "id": "a81c2b01",
   "metadata": {},
   "outputs": [
    {
     "data": {
      "text/plain": [
       "'There is no -1 here'"
      ]
     },
     "execution_count": 13,
     "metadata": {},
     "output_type": "execute_result"
    }
   ],
   "source": [
    "def check_negative_one(list):\n",
    "    if int(-1) in list:\n",
    "        return list.index(-1)\n",
    "    else:\n",
    "        return ('There is no -1 here')\n",
    "    \n",
    "    \n",
    "A = [ 5, 2, 9, 3, 12]\n",
    "nnn = check_negative_one(A)\n",
    "nnn"
   ]
  },
  {
   "cell_type": "markdown",
   "id": "d1d3a9ae",
   "metadata": {},
   "source": [
    "Question 12 0 pts\n",
    "Taking the procedure you used for Ex 26 from Workshop 1:\n",
    "\n",
    "Create a function which accepts a list of names, and a list of grades.\n",
    "\n",
    "The body of the function should initialise an empty dictionary, and combine the names and grades as the key and value (as in Ex 26)\n",
    "\n",
    "a. E.g. it might look like this { “Neva”: 72.2, “Kelley”: 64.9, “Emerson”: 32.0 }\n",
    "\n",
    "b. Remember: What if we had 100,000 entries! -> Write code to do the key: value mix for you, don’t just write the dictionary literal itself.\n",
    "\n",
    "The function should return this newly created dictionary.\n",
    "\n",
    "Take the existing student_records dictionary and concatenate the return of the function\n",
    "\n",
    "def get_combined_namegrades( names, grades ):\n",
    "    # Initialise an empty dictionary.\n",
    "    # Combine names with grades to make the dictionary\n",
    "    # Keys are the names,\n",
    "    # Values are the grades for the given student.\n",
    "    # Return the dictionary\n",
    "\n",
    "student_records = {\n",
    "    \"Ada\": 98.0,\n",
    "    \"Bill\": 45.0,\n",
    "    \"Charlie\": 63.2\n",
    "}\n",
    "\n",
    "student_names = [\"Teri\", \"Johanna\", \"Tomas\", \"Piotr\", \"Grzegorz\"]\n",
    "student_grades= [35.0, 52.5, 37.8, 65.0, 64.8]\n",
    "\n",
    "# Invoke the get_combined_namegrades function\n",
    "# passing the appropriate lists\n",
    "# Use the return\n",
    "\n",
    "# Concatenate this newly returned dictionary to our student_records.\n",
    "# Print the updated student_records variables to show it worked.\n",
    "print(student_records)\n",
    "Note: Take care when copy-pasting from a Word Document. “ and ‘ may be different, leading to syntax error.\n",
    "\n",
    "Hint: We can .update(...) our dictionary with another.\n"
   ]
  },
  {
   "cell_type": "code",
   "execution_count": 14,
   "id": "79326b8d",
   "metadata": {},
   "outputs": [
    {
     "data": {
      "text/plain": [
       "{'Ada': 98.0,\n",
       " 'Bill': 45.0,\n",
       " 'Charlie': 63.2,\n",
       " 'Teri': 35.0,\n",
       " 'Johanna': 52.5,\n",
       " 'Tomas': 37.8,\n",
       " 'Piotr': 65.0,\n",
       " 'Grzegorz': 64.8}"
      ]
     },
     "execution_count": 14,
     "metadata": {},
     "output_type": "execute_result"
    }
   ],
   "source": [
    "def get_combined_namegrades( names, grades ):\n",
    "    # Initialise an empty dictionary.\n",
    "    # Combine names with grades to make the dictionary\n",
    "    # Keys are the names,\n",
    "    # Values are the grades for the given student.\n",
    "    # Return the dictionary\n",
    "    new_dict = {}\n",
    "    new_dict.update(zip(names,grades))\n",
    "    return new_dict\n",
    "\n",
    "\n",
    "student_records = { \"Ada\": 98.0, \"Bill\": 45.0, \"Charlie\": 63.2 }\n",
    "student_names = [\"Teri\", \"Johanna\", \"Tomas\", \"Piotr\", \"Grzegorz\"]\n",
    "student_grades= [35.0, 52.5, 37.8, 65.0, 64.8]\n",
    "\n",
    "hhh = get_combined_namegrades(student_names,student_grades)\n",
    "student_records.update(hhh)\n",
    "student_records"
   ]
  },
  {
   "cell_type": "markdown",
   "id": "0ab36d9a",
   "metadata": {},
   "source": [
    "Flag question: Question 13\n",
    "Question 13 0 pts\n",
    "Taking our updated student_records, create a dictionary comprehension which will only include items with a grade >= 65. (I.e. act as a filter). Assign this to a variable called filtered_student_records. This should be output once complete:\n",
    "\n",
    "print (filtered_student_records)"
   ]
  },
  {
   "cell_type": "code",
   "execution_count": 15,
   "id": "050c2865",
   "metadata": {},
   "outputs": [
    {
     "name": "stdout",
     "output_type": "stream",
     "text": [
      "{'Ada': 98.0, 'Piotr': 65.0}\n"
     ]
    }
   ],
   "source": [
    "filtered_student_records = {k:v for (k,v) in student_records.items() if v>= 65}\n",
    "print(filtered_student_records)"
   ]
  },
  {
   "cell_type": "markdown",
   "id": "a452e2ee",
   "metadata": {},
   "source": [
    "Flag question: Question 14\n",
    "Question 14 0 pts\n",
    "Create a function, which will take as input a grade as a float, and output a string which denotes the grade classification.\n",
    "\n",
    "E.g.\n",
    "\n",
    "< 40.0 is a “Fail”\n",
    "40.0 - 50.0 is a “Pass”\n",
    "50.0 - 60.0 is “2:2”\n",
    "60.0-70.0 is a “2:1”\n",
    "70.0 is a “First”\n",
    "def grade_to_classification( grade ):\n",
    "    if grade < 40.0:\n",
    "        return \"Fail\"\n",
    "    elif …\n",
    "The above template is provided to help you get started. You will need to check values of the grade provided to determine what should be returned. A consideration once you’ve completed your if, elif, else conditionals is: “Have you covered every eventuality? Could I provide a grade which doesn’t match one of your cases? Thus will return None.”\n",
    "\n",
    "Create a dictionary comprehension which will apply grade_to_classification for every value. Hint: {k: v ... Would store the value, v, at the key k. We want to store the return of grade_to_classification on that grade (I.e. grade_to_classification(v) in this case)\n",
    "\n",
    "Hint 2: For determining if a value is within two ranges you will need to use the logical operators for boolean expressions from last week. E.g. grade >= 40.0 and grade < 50.0 If you print the result of this more complex dictionary comprehension, you should get the following:\n",
    "\n",
    "{'Ada': 'First', 'Bill': 'Pass', 'Charlie': '2:1', 'Teri': 'Fail', 'Johanna': '2:2', 'Tomas': 'Fail', 'Piotr': '2:1', 'Grzegorz': '2:1'}"
   ]
  },
  {
   "cell_type": "code",
   "execution_count": 16,
   "id": "fd89d7db",
   "metadata": {},
   "outputs": [
    {
     "name": "stdout",
     "output_type": "stream",
     "text": [
      "{'Ada': 'First', 'Bill': 'Pass', 'Charlie': '2.1', 'Teri': 'Fail', 'Johanna': '2.2', 'Tomas': 'Fail', 'Piotr': '2.1', 'Grzegorz': '2.1'}\n"
     ]
    }
   ],
   "source": [
    "name = student_records.keys()\n",
    "grade = student_records.values()\n",
    "\n",
    "def grade_to_classification(grade):\n",
    "    if grade < 40.0: return \"Fail\"\n",
    "    elif grade >40.0 and grade <50.0: return \"Pass\"\n",
    "    elif grade >=50.0 and grade <=60.0: return \"2.2\"\n",
    "    elif grade >=60.0 and grade <=70.0: return \"2.1\"\n",
    "    elif grade >=70.0: return \"First\"\n",
    "\n",
    "\n",
    "graded_dict = {k:grade_to_classification(v) for k,v in student_records.items()}\n",
    "print(graded_dict)"
   ]
  },
  {
   "cell_type": "markdown",
   "id": "b7b80dd4",
   "metadata": {},
   "source": [
    "Flag question: Question 15\n",
    "Question 15 0 pts\n",
    "You are given a list of just grades, and asked to calculate which grade gets which classification. Using your newly defined function for this, write a List Comprehension which will apply the function on every element.\n",
    "\n",
    "more_grades = [0.0, 50.0, 49.9, 79.0, 101.0, 65.0, 54.2, 48.2, 78.9]\n",
    "The output should be as follows:\n",
    "\n",
    "['Fail', '2:2', 'Pass', 'First', 'First', '2:1', '2:2', 'Pass', 'First']\n"
   ]
  },
  {
   "cell_type": "code",
   "execution_count": 17,
   "id": "85ab1141",
   "metadata": {},
   "outputs": [
    {
     "name": "stdout",
     "output_type": "stream",
     "text": [
      "['Fail', '2.2', 'Pass', 'First', 'First', '2.1', '2.2', 'Pass', 'First']\n"
     ]
    }
   ],
   "source": [
    "more_grades = [0.0, 50.0, 49.9, 79.0, 101.0, 65.0, 54.2, 48.2, 78.9] \n",
    "\n",
    "compre = [grade_to_classification(x) for x in more_grades]\n",
    "print(compre)"
   ]
  },
  {
   "cell_type": "markdown",
   "id": "a4df89cb",
   "metadata": {},
   "source": [
    "\n",
    "Flag question: Question 16\n",
    "Question 16 0 pts\n",
    "The University administrators need a count of how many have failed. Modify your list comprehension to:\n",
    "\n",
    "Only get the classification for grades in the fail category ( < 40 ) - This will output a smaller list.\n",
    "Obtain the length of this smaller list to give to the admins as a count."
   ]
  },
  {
   "cell_type": "code",
   "execution_count": 18,
   "id": "d8965655",
   "metadata": {},
   "outputs": [
    {
     "data": {
      "text/plain": [
       "1"
      ]
     },
     "execution_count": 18,
     "metadata": {},
     "output_type": "execute_result"
    }
   ],
   "source": [
    "new_comp =[x for x in compre if x == 'Fail']\n",
    "len(new_comp)"
   ]
  },
  {
   "cell_type": "markdown",
   "id": "8997f58f",
   "metadata": {},
   "source": [
    "Flag question: Question 17\n",
    "Question 17 0 pts\n",
    "Suspicions have been raised that the IT system may have introduced an error into the grading system. The administrators want you to write a List Comprehension which will modify any values exceeding 100, to cap them at the maximum grade possible 100. Returning the raw grades back.\n",
    "\n",
    "Hint: There were two types of conditional. One at the end for filtering, and one near the beginning for modifying values.\n",
    "\n",
    "Output should look like this:\n",
    "\n",
    "[0.0, 50.0, 49.9, 79.9, 100, 65.0, 54.2, 48.2, 78.9]\n"
   ]
  },
  {
   "cell_type": "code",
   "execution_count": 19,
   "id": "e3dc3116",
   "metadata": {},
   "outputs": [
    {
     "name": "stdout",
     "output_type": "stream",
     "text": [
      "[0.0, 50.0, 49.9, 79.0, 100.0, 65.0, 54.2, 48.2, 78.9]\n"
     ]
    }
   ],
   "source": [
    "trimmed= [x-x+ 100 if x>100 else x for x in more_grades]\n",
    "print(trimmed)"
   ]
  },
  {
   "cell_type": "markdown",
   "id": "a90410e0",
   "metadata": {},
   "source": [
    " \n",
    "Flag question: Question 18\n",
    "Question 18 0 pts\n",
    "ClassesLinks to an external site.\n",
    "Create the following empty class definition:\n",
    "\n",
    "class Student(object):\n",
    "    pass # We need something on this line otherwise python complains\n",
    "We can create a new Student Object from this; however, it doesn’t do much currently.\n",
    "\n",
    "alex = Student()"
   ]
  },
  {
   "cell_type": "code",
   "execution_count": 20,
   "id": "1be778e2",
   "metadata": {},
   "outputs": [],
   "source": [
    "class Student():\n",
    "    pass\n",
    "\n",
    "alex = Student()"
   ]
  },
  {
   "cell_type": "markdown",
   "id": "d568a2e1",
   "metadata": {},
   "source": [
    "Flag question: Question 19\n",
    "Question 19 0 pts\n",
    "Verify that alex is a Student object. Remember what happens if we print classes, or print their type?\n",
    " "
   ]
  },
  {
   "cell_type": "code",
   "execution_count": 21,
   "id": "da5a8e35",
   "metadata": {},
   "outputs": [
    {
     "name": "stdout",
     "output_type": "stream",
     "text": [
      "<class '__main__.Student'>\n"
     ]
    }
   ],
   "source": [
    "print(type(alex))"
   ]
  },
  {
   "cell_type": "markdown",
   "id": "5742aa91",
   "metadata": {},
   "source": [
    "Flag question: Question 20\n",
    "Question 20 0 pts\n",
    "At the moment we can’t really provide any student related data when making the student object. Let’s add a constructor. Define an empty constructor\n",
    "\n",
    "class Student(object):\n",
    "    def _init_(self):\n",
    "            print(\"This gets called when I make a new student.\")\n",
    "If we execute the alex = Student() line again, we should now get something printed. This proves that _init_ actually gets executed. Hint: Don’t forget self.\n"
   ]
  },
  {
   "cell_type": "code",
   "execution_count": 22,
   "id": "22a3791b",
   "metadata": {},
   "outputs": [
    {
     "name": "stdout",
     "output_type": "stream",
     "text": [
      "This gets called when I make a new student\n"
     ]
    }
   ],
   "source": [
    "class Student():\n",
    "    def __init__(self):\n",
    "        print('This gets called when I make a new student')\n",
    "        \n",
    "alex = Student()"
   ]
  },
  {
   "cell_type": "markdown",
   "id": "f4628339",
   "metadata": {},
   "source": [
    "Flag question: Question 21\n",
    "Question 21 0 pts\n",
    "What data do we currently hold for students? A name and a grade. Modify the constructor to accept two parameters, name, and grade.\n",
    "\n",
    "Inside the constructor body, assign two attributes to self. (E.g. self.name = ... ) representing the two parameters you just put in the method definition.\n",
    "\n",
    "What happens if we try to run alex = Student() now?\n"
   ]
  },
  {
   "cell_type": "code",
   "execution_count": 23,
   "id": "bd29905a",
   "metadata": {},
   "outputs": [],
   "source": [
    "class Student():\n",
    "    def __init__(self, name, grade):\n",
    "        self.name= name\n",
    "        self.grade= grade\n",
    "\n",
    "        \n",
    "#alex = Student()\n",
    "\n",
    "#alex= Student() now returns a TypeError because it wasn't given the required arguments"
   ]
  },
  {
   "cell_type": "markdown",
   "id": "ba0c27c9",
   "metadata": {},
   "source": [
    "Question 22 0 pts\n",
    "Modify your instantiation of our Student object, to include a name and grade of your choice. E.g. We can give the variable alex, an actual name and grade (data attributes).\n",
    "\n",
    "alex = Student(\"Alex\", 99)\n",
    "Remember, the variable name itself doesn't impact the data of our object itself! I could say x = Student(\"Alex\", 99) it’s just a friendly/descriptive name to make the programmer’s life easier.\n"
   ]
  },
  {
   "cell_type": "code",
   "execution_count": 24,
   "id": "52b3f161",
   "metadata": {},
   "outputs": [],
   "source": [
    "class Student():\n",
    "    def __init__(self, name, grade):\n",
    "        self.name= name\n",
    "        self.grade= grade\n",
    "\n",
    "        \n",
    "alex = Student('Alex', 99)"
   ]
  },
  {
   "cell_type": "markdown",
   "id": "45d1750f",
   "metadata": {},
   "source": [
    " \n",
    "Flag question: Question 23\n",
    "Question 23 0 pts\n",
    "To prove this point, let’s make a List directly with Student Objects. The only variable here is pointing to the List. Everything else is a raw data object (like 5, “bob”, [], and now our newly defined Type Student).\n",
    "\n",
    "some_students = [ Student(\"Alex\", 99), Student(\"Rob\", 35.0), Student(\"Tasha\", 70.0) ] \n",
    "Warning: Notice how I mixed integer grades and floats. This won’t cause us a problem now, but in our constructor we may want to explicitly cast the incoming grade to be a float. We will look at error handling next week on what to do if something unexpected comes in instead.\n",
    "\n",
    "Note: Feel free to remove the print line from the constructor, if it gets annoying.\n",
    "\n",
    "I can index this list just like any list, and print the element:\n",
    "\n",
    "print( some_students[0] )"
   ]
  },
  {
   "cell_type": "code",
   "execution_count": 25,
   "id": "4d65553f",
   "metadata": {},
   "outputs": [
    {
     "name": "stdout",
     "output_type": "stream",
     "text": [
      "<__main__.Student object at 0x00000206BF2D9570>\n"
     ]
    }
   ],
   "source": [
    "some_students = [ Student(\"Alex\", 99), Student(\"Rob\", 35.0), Student(\"Tasha\", 70.0) ]\n",
    "print(some_students[0])"
   ]
  },
  {
   "cell_type": "markdown",
   "id": "119871c0",
   "metadata": {},
   "source": [
    "Flag question: Question 24\n",
    "Question 24 0 pts\n",
    "We already have written some code which will take a numeric grade, and convert it to a classification. Let’s add a method to our Student class which can do this for us.\n",
    "\n",
    "Just like how we got the Cats to speak based on the data attributes they hold, we can get this function to change behaviour based on the data its object holds. I.e the names and grades of each individual student object.\n",
    "\n",
    "class Student(object):\n",
    "    def _init_(self, name, grade):\n",
    "            ...\n",
    "    def get_classification(self):\n",
    "            pass # Need this here for now.\n",
    "When we made our function before, we had to give it a grade to process on. However, with this method we already have access to a grade! With self.grade the function definition needs self as this is required for methods of an object.\n",
    "\n",
    "Replace pass with your grade classification logic that you wrote previously. Except instead of using grade use self.grade.\n",
    "\n",
    "Once this is complete, re-execute the class cell (updates our definition with python) (shift+enter). Re-execute all the other cells where we made objects (so they get this new method we’ve added) (shift+enter).\n",
    "\n",
    "With a bit of luck we should now be able to get a student to directly give you their classification. Let’s use our first student object that we made: alex.\n",
    "\n",
    "print( alex.get_classification() )\n",
    "Note: I changed the name of the method in this case as we are wanting the classification of our student. Remember that we use classes for hiding away information we don’t really care about. In this instance, do I need to know that the classification is derived from grade? No, I just want the classification itself.\n",
    "\n",
    " \n",
    "Flag question: Spacer\n",
    "The Extended Exercises are optional, and are offered as an advanced supplement for those who have completed the existing work and wish to expand on their knowledge and challenge themselves further.\n",
    " "
   ]
  },
  {
   "cell_type": "code",
   "execution_count": 26,
   "id": "4104a636",
   "metadata": {},
   "outputs": [
    {
     "name": "stdout",
     "output_type": "stream",
     "text": [
      "First\n",
      "Fail\n",
      "2.1\n"
     ]
    }
   ],
   "source": [
    "class Student():\n",
    "    def __init__(self, name, grade):\n",
    "        self.name= name\n",
    "        self.grade= grade\n",
    "        \n",
    "    def get_classification(self):\n",
    "        if self.grade < 40.0: return \"Fail\"\n",
    "        elif self.grade >40.0 and self.grade <50.0: return \"Pass\"\n",
    "        elif self.grade >=50.0 and self.grade <=60.0: return \"2.2\"\n",
    "        elif self.grade >=60.0 and self.grade <=70.0: return \"2.1\"\n",
    "        elif self.grade >=70.0: return \"First\"\n",
    "        \n",
    "some_students = [ Student(\"Alex\", 99), Student(\"Rob\", 35.0), Student(\"Tasha\", 70.0) ]\n",
    "alex = Student('Alex', 99)\n",
    "print(alex.get_classification())\n",
    "print(some_students[1].get_classification())\n",
    "print(some_students[2].get_classification())"
   ]
  },
  {
   "cell_type": "markdown",
   "id": "9125e462",
   "metadata": {},
   "source": [
    "Flag question: Question 25\n",
    "Question 25 0 pts\n",
    "A palindrome is a string which, when reversed, is identical. Some example words which are palindromes are: “Taco cat”, “Stressed desserts”, “Anna”, “kayak”, “racecar”. They can be read forwards and backwards and remain the same.\n",
    "\n",
    "Write a function which accepts a List of strings. This function should return a List of True/False, where True means the entry at that index was a palindrome.\n",
    "\n",
    "Challenge mode: The body of the function should be a singular List Comprehension\n",
    "\n",
    "Example:\n",
    "\n",
    "input_list = [ “taco cat”, “bob”, “davey” ]\n",
    "output = palindromes( input_list )\n",
    "-> [ True, True, False ]\n"
   ]
  },
  {
   "cell_type": "code",
   "execution_count": 27,
   "id": "e332bee4",
   "metadata": {},
   "outputs": [
    {
     "name": "stdout",
     "output_type": "stream",
     "text": [
      "[True, True, False]\n"
     ]
    }
   ],
   "source": [
    "input_list = ['taco cat','bob', 'davey']\n",
    "\n",
    "def palindrome(thing):\n",
    "    return [x[::-1].replace(' ','') == x.replace(' ','') for x in thing]\n",
    "    \n",
    "    \n",
    "print(palindrome(input_list))"
   ]
  },
  {
   "cell_type": "code",
   "execution_count": null,
   "id": "abe2d3d5",
   "metadata": {},
   "outputs": [],
   "source": []
  }
 ],
 "metadata": {
  "kernelspec": {
   "display_name": "Python 3 (ipykernel)",
   "language": "python",
   "name": "python3"
  },
  "language_info": {
   "codemirror_mode": {
    "name": "ipython",
    "version": 3
   },
   "file_extension": ".py",
   "mimetype": "text/x-python",
   "name": "python",
   "nbconvert_exporter": "python",
   "pygments_lexer": "ipython3",
   "version": "3.10.7"
  }
 },
 "nbformat": 4,
 "nbformat_minor": 5
}
